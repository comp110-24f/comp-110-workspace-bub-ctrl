{
 "cells": [
  {
   "cell_type": "markdown",
   "metadata": {},
   "source": [
    "# Quantified Shakespeare\n",
    "\n",
    "The purpose of this notebook is to explore character/letter frequency in Shakespeare's works.\n",
    "\n",
    "Steps:\n",
    "\n",
    "1. Read date into list of lines\n",
    "2. Count characters in a dictionary\n",
    "3. Print results "
   ]
  },
  {
   "cell_type": "code",
   "execution_count": null,
   "metadata": {
    "vscode": {
     "languageId": "plaintext"
    }
   },
   "outputs": [],
   "source": [
    "lines: list[str] = []\n",
    "file_handle = open(\"shakespeare.txt\", \"r\", encoding=\"utf8\")\n",
    "lines = file_handle.readlines()\n",
    "file_handle.close()\n",
    "print(f\"{len(lines)} lines of Shakespeare read\")"
   ]
  },
  {
   "cell_type": "markdown",
   "metadata": {},
   "source": [
    "Now that we have all lines of text in a dictionary named `lines`, let's count the characters Shakespeare used!"
   ]
  },
  {
   "cell_type": "code",
   "execution_count": null,
   "metadata": {
    "vscode": {
     "languageId": "plaintext"
    }
   },
   "outputs": [],
   "source": [
    "frequencies: dict[str, int] = {}\n",
    "\n",
    "for line in lines:\n",
    "    for character in line:\n",
    "        if character.isalpha():\n",
    "\n",
    "            if character in frequencies:\n",
    "                frequencies[character] += 1\n",
    "            else:\n",
    "                frequencies[character] = 1\n",
    "\n",
    "\n",
    "\n",
    "frequencies"
   ]
  },
  {
   "cell_type": "markdown",
   "metadata": {},
   "source": [
    "### Let's avoid counting non-alphabetical characters"
   ]
  },
  {
   "cell_type": "code",
   "execution_count": null,
   "metadata": {
    "vscode": {
     "languageId": "plaintext"
    }
   },
   "outputs": [],
   "source": [
    "\n",
    "\n",
    "for line in lines:\n",
    "    for character in line:\n",
    "        if character in frequencies:\n",
    "            frequencies[character] += 1\n",
    "        else:\n",
    "            frequencies[character] = 1"
   ]
  }
 ],
 "metadata": {
  "language_info": {
   "name": "python"
  }
 },
 "nbformat": 4,
 "nbformat_minor": 2
}
